{
  "metadata": {
    "language_info": {
      "codemirror_mode": {
        "name": "python",
        "version": 3
      },
      "file_extension": ".py",
      "mimetype": "text/x-python",
      "name": "python",
      "nbconvert_exporter": "python",
      "pygments_lexer": "ipython3",
      "version": "3.8"
    },
    "kernelspec": {
      "name": "python",
      "display_name": "Python (Pyodide)",
      "language": "python"
    }
  },
  "nbformat_minor": 4,
  "nbformat": 4,
  "cells": [
    {
      "cell_type": "markdown",
      "source": "# Final work\n",
      "metadata": {}
    },
    {
      "cell_type": "markdown",
      "source": "# Introduction\n\nThis introduction integrates information about data science languages, libraries, tools, and objectives, creating a comprehensive overview for the reader.\n",
      "metadata": {}
    },
    {
      "cell_type": "markdown",
      "source": "### Data science languages\n- **R:** Language for statistical data analysis, visualization, and machine learning with powerful libraries. Widely used in science, statistics, and data analytics.\n- **Julia:** Language designed for high-performance scientific computing, data analysis, and machine learning. It excels in numerical and technical computing, making it a versatile choice for scientific research, data analytics, and complex computations.\n- **Python:** High-level programming language with an extensive standard library. It offers tools for diverse tasks like databases, automation, web scraping, text and image processing, machine learning, and data analytics. This makes Python an ideal choice for data analysis applications.",
      "metadata": {}
    },
    {
      "cell_type": "markdown",
      "source": "### Data science libraries\n\n- **NumPy:** Efficient numerical operations and array handling for data manipulation.\n- **Pandas:** Data manipulation and analysis using tabular structures.\n- **Matplotlib:** Versatile plotting library for data visualization.\n- **Seaborn:** Statistical graphics for enhanced data visualization.\n- **Scikit-learn:** Comprehensive machine learning tools for data analysis.",
      "metadata": {
        "jp-MarkdownHeadingCollapsed": true,
        "tags": []
      }
    },
    {
      "cell_type": "markdown",
      "source": "### Data Science Tools\n\n|Tool         |Description                         |\n|-------------|------------------------------------|\n|Jupyter      | Interactive computing environment  |\n|VS Code      | Integrated Development Environment |\n|Tableau      | Data visualization tool            |\n|Git          | Version control system             |\n|Docker       | Containerization platform          |\n",
      "metadata": {}
    },
    {
      "cell_type": "markdown",
      "source": "## Arithmetic Expressions\nLet's explore some basic arithmetic expressions in the following examples.\n",
      "metadata": {}
    },
    {
      "cell_type": "code",
      "source": "# Multiply and add numbers\n\nresult_mul = 5 * 3\nresult_add = 5 + 3\n\nprint(\"Result of multiply:\",result_mul,\",\",\"Result of add:\", result_add)\n",
      "metadata": {
        "trusted": true
      },
      "execution_count": 16,
      "outputs": [
        {
          "name": "stdout",
          "text": "Result of multiply: 15 , Result of add: 8\n",
          "output_type": "stream"
        }
      ]
    },
    {
      "cell_type": "code",
      "source": "# This will convert  minutes to hours \n\nminutes = 200\nhours = 60\nhours_con = minutes / hours\nround_hours_con = round(hours_con,2)\nprint(round_hours_con,\"Hours\")",
      "metadata": {
        "trusted": true
      },
      "execution_count": 17,
      "outputs": [
        {
          "name": "stdout",
          "text": "3.33 Hours\n",
          "output_type": "stream"
        }
      ]
    },
    {
      "cell_type": "markdown",
      "source": "# Objectives\n\n1. Explore fundamental data science concepts.\n2. Practice coding exercises in Python.\n3. Demonstrate proficiency in using Jupyter Notebooks.\n",
      "metadata": {}
    },
    {
      "cell_type": "markdown",
      "source": "## Author\n\nOleg Sirosh\n",
      "metadata": {}
    },
    {
      "cell_type": "code",
      "source": "",
      "metadata": {},
      "execution_count": null,
      "outputs": []
    }
  ]
}